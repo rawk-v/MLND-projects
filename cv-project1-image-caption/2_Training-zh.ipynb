{
  "nbformat": 4,
  "nbformat_minor": 0,
  "metadata": {
    "colab": {
      "name": "2_Training-zh.ipynb",
      "version": "0.3.2",
      "provenance": [],
      "toc_visible": true
    },
    "language_info": {
      "codemirror_mode": {
        "name": "ipython",
        "version": 3
      },
      "file_extension": ".py",
      "mimetype": "text/x-python",
      "name": "python",
      "nbconvert_exporter": "python",
      "pygments_lexer": "ipython3",
      "version": "3.6.3"
    },
    "kernelspec": {
      "name": "python3",
      "display_name": "Python 3"
    },
    "accelerator": "GPU"
  },
  "cells": [
    {
      "metadata": {
        "id": "usZ7DeHwQY5f",
        "colab_type": "text"
      },
      "cell_type": "markdown",
      "source": [
        "# 计算机视觉纳米学位项目\n",
        "\n",
        "## 实战项目：图像标注\n",
        "\n",
        "---\n",
        "\n",
        "在这个notebook中，你要做的是训练你的CNN-RNN模型。\n",
        "\n",
        "我们欢迎并鼓励你在搜索好的模型时尝试多种不同的架构和超参数。\n",
        "\n",
        "这样的话，很有可能会使项目变得非常凌乱！所以，在提交项目之前，请确保清理以下内容：\n",
        "- 你在这个notebook上写的代码。该notebook应描述如何训练单个CNN-RNN架构，使其与你最终选择的超参数相对应。此外，你的notebook应便于审阅专家通过运行此notebook中的代码来复制结果。\n",
        "- **Step 2**中代码单元格的输出。这个输出显示的应该是从零开始训练模型时获得的输出。\n",
        "\n",
        "我们将会对这个notebook**进行评分**。\n",
        "\n",
        "你可以通过点击以下链接导航到该notebook：\n",
        "- [Step 1](#step1): 训练设置\n",
        "- [Step 2](#step2): 训练你的模型\n",
        "- [Step 3](#step3): (可选）验证你的模型\n",
        "\n",
        "<a id='step1'></a>\n",
        "## Step 1: 训练设置\n",
        "\n",
        "在该notebook的此步骤中，你需要通过定义超参数并设置训练过程中重要的其他选项来自定义对CNN-RNN模型的训练。在下面的**Step 2**中训练模型时，会使用到现在设置的值。\n",
        "\n",
        "请注意，你只可以修改以`TODO`语句开头的代码块。**对于所以不在`TODO`语句之前的代码块，不能做任何修改。**\n",
        "\n",
        "### 任务 #1\n",
        "\n",
        "首先，请设置以下变量：\n",
        "- `batch_size` - 每个训练批次的批次大小。它是指用于在每个训练步骤中修改模型权重的图像标注对的数量。\n",
        "- `vocab_threshold` - 单词阈值最小值。请注意，阈值越大，词汇量越小，而阈值越小，则表示将包括较少的词汇，词汇量则越大。\n",
        "- `vocab_from_file` - 一个布尔值，用于决定是否从文件加载词汇表。\n",
        "- `embed_size` - the dimensionality of the image and word embeddings.  图像和单词嵌入的维度。\n",
        "- `hidden_size` - RNN解码器隐藏状态下的特征数。\n",
        "- `num_epochs` - 训练模型的epoch数。我们建议你设置为`num_epochs=3`，但可以根据需要随意增加或减少此数字。 [这篇论文](https://arxiv.org/pdf/1502.03044.pdf) 在一个最先进的GPU上对一个标注生成模型训练了3天，但很快你就会发现，其实在几个小时内就可以得到合理的结果！（_但是，如果你想让你的模型与当前的研究一较高下，则需要更长时间的训练。_)\n",
        "- `save_every` - 确定保存模型权重的频率。我们建议你设置为`save_every=1`，便于在每个epoch后保存模型权重。这样，在第`i`个epoch之后，编码器和解码器权重将在`models/`文件夹中分别保存为`encoder-i.pkl`和`decoder-i.pkl`。\n",
        "- `print_every` - 确定在训练时将批次损失输出到Jupyter notebook的频率。请注意，训练时，你**将不会**看到损失函数的单调减少，这一点非常好并且完全可以预料到！我们建议你将其保持在默认值`100` ，从而避免让这个notebook运行变慢，但之后随时都可以进行更改。\n",
        "- `log_file` - 包含每个步骤中训练期间的损失与复杂度演变过程的的文本文件的名称。\n",
        "\n",
        "对于上述某些值，如果你不确定从哪里开始设置，可以仔细阅读 [这篇文章](https://arxiv.org/pdf/1502.03044.pdf) 与 [这篇文章](https://arxiv.org/pdf/1411.4555.pdf) ，获得有用的指导！为了避免在该notebook上花费太长时间，我们建议你查阅这些研究论文，从中可以获得有关哪些超参数可能最有效的初始猜测。然后，训练单个模型，然后继续下一个notebook（**3_Inference.ipynb**）。如果你对模型的效果不满意，可以返回此notebook调整超参数和/或**model.py**中的体系结构，并重新训练模型。\n",
        "\n",
        "### 问题1\n",
        "\n",
        "**问题:** 详细描述你的CNN-RNN架构。对于这种架构，任务1中变量的值，你是如何选择的？如果你查阅了某一篇详细说明关于成功实现图像标注生成模型的研究论文，请提供该参考论文。\n",
        "\n",
        "**答案:** \n",
        "1. `batch_size`，首先设置成一个较小的值，观察整体的损失曲线变化，通常越小，曲线震荡越厉害，要使曲线变化平滑，需要增大该值；\n",
        "2. `embed_size`、`hidden_size`，这两个值直接影响模型的复杂度，越大复杂度越高，可能会导致过拟合；\n",
        "3. `num_epochs`，影响最终模型的拟合程度，实验从较小的值开始，如果较小的值不能够使损失下降到接近稳定变化的趋势，就需要加大，而如果在较小值情况下，就已经使损失快速下降后呈现微小下降的趋势，那么可以尝试调试其它超参数；\n",
        "4. `vocab_threshold`，选定较小的值，可以保证模型能够预测到更多的单词，而非`unknown word`；\n",
        "5. `vocab_from_file`，在第一次生成之后，就不再更改。\n",
        "\n",
        "\n",
        "### （可选）任务 #2\n",
        "\n",
        "请注意，我们为你推荐了一个用于预处理训练图像的图像转换`transform_train`，但同时，也欢迎并鼓励你根据需要进行修改。修改此转换时，请牢记：\n",
        "- 数据集中的图像具有不同的高度和宽度\n",
        "- 如果使用预先训练的模型，则必须执行相应的相应归一化。\n",
        "\n",
        "### 问题2\n",
        "\n",
        "**问题:** 你是如何在`transform_train`中选择转换方式的？如果你将转换保留为其提供的值，为什么你的任务它非常适合你的CNN架构？\n",
        "\n",
        "**答案:** \n",
        "1. CNN模型的输入需要是固定大小的值，因此需要将数据转换成一致的尺寸；\n",
        "2. 在输入数据中，加入随机的裁剪、镜像、缩放，可以有效防止过拟合；\n",
        "3. 将输入数据进行归一化，可以使模型更快收敛到最优解。\n",
        "\n",
        "### 任务 #3\n",
        "\n",
        "接下来，你需要定义一个包含模型的可学习参数的Python列表。 例如，如果你决定使解码器中的所有权重都是可训练的，但只想在编码器的嵌入层中训练权重，那么，就应该将`params`设置为："
      ]
    },
    {
      "metadata": {
        "id": "5arTd0DKQY5h",
        "colab_type": "text"
      },
      "cell_type": "markdown",
      "source": [
        "```python\n",
        "params = list(decoder.parameters()) + list(encoder.embed.parameters()) \n",
        "```"
      ]
    },
    {
      "metadata": {
        "id": "GQaHv8h2QY5i",
        "colab_type": "text"
      },
      "cell_type": "markdown",
      "source": [
        "### 问题3\n",
        "\n",
        "**问题:** 你是如何选择该架构的可训练参数的？ 为什么你认为这是一个不错的选择？\n",
        "\n",
        "**答案:** 模型的encoder部分是预训练的的CNN模型，用于提取图像特征向量，因此除了最后加入的Embed层之外，都不需要经过训练。CNN层最后的Embed层按照当前的特定任务，需要进行训练；而RNN部分是识别序列的重要部分，没有经过预训练，必然是需要设置成可训练模式的。\n",
        "\n",
        "### 任务 #4\n",
        "\n",
        "最后，选择一个 [优化程序](http://pytorch.org/docs/master/optim.html#torch.optim.Optimizer)。\n",
        "\n",
        "### 问题4\n",
        "\n",
        "**问题:** 你是如何选择用于训练模型的优化程序的？\n",
        "\n",
        "**答案:**相比SGD、RMSprop等，Adam优化器收敛速度更加快。"
      ]
    },
    {
      "metadata": {
        "id": "7bUFbiXDQY5m",
        "colab_type": "code",
        "colab": {}
      },
      "cell_type": "code",
      "source": [
        "import torch\n",
        "import torch.nn as nn\n",
        "from torchvision import transforms\n",
        "import os\n",
        "import sys\n",
        "sys.path.append('/opt/cocoapi/PythonAPI')\n",
        "from pycocotools.coco import COCO\n",
        "from data_loader import get_loader\n",
        "import math\n",
        "import torch.optim as optim\n",
        "\n",
        "# batch_size = 64          # batch size\n",
        "# vocab_threshold = 10        # minimum word count threshold\n",
        "# vocab_from_file = True    # if True, load existing vocab file\n",
        "# embed_size = 256           # dimensionality of image and word embeddings\n",
        "# hidden_size = 64          # number of features in hidden state of the RNN decoder\n",
        "# num_epochs = 3             # number of training epochs\n",
        "# save_every = 1             # determines frequency of saving model weights\n",
        "# print_every = 100          # determines window for printing average loss\n",
        "# log_file = 'training_log.txt'       # name of file with saved training loss and perplexity"
      ],
      "execution_count": 0,
      "outputs": []
    },
    {
      "metadata": {
        "id": "XJkESHfFTv0i",
        "colab_type": "code",
        "cellView": "form",
        "colab": {}
      },
      "cell_type": "code",
      "source": [
        "## TODO #1: Select appropriate values for the Python variables below.\n",
        "\n",
        "#@title Hyper parameter {run: \"auto\"}\n",
        "batch_size = 128 #@param {type:\"integer\"}\n",
        "vocab_threshold = 5 #@param {type:\"integer\"}\n",
        "vocab_from_file = True #@param {type:\"boolean\"}\n",
        "embed_size = 512 #@param {type:\"integer\"}\n",
        "hidden_size = 512 #@param {type:\"integer\"}\n",
        "num_layers = 1 #@param {type:\"integer\"}\n",
        "num_epochs = 3 #@param {type:\"integer\"}\n",
        "learning_rate = 0.001 #@param {type:\"number\"}\n",
        "save_every = 1 #@param {type:\"integer\"}\n",
        "print_every = 100 #@param {type:\"integer\"}\n",
        "log_file = 'training_log.txt' #@param {type:\"string\"}\n",
        "save_root_path = \"/content/gdrive/My Drive/AI-projects/cv-project1-image-caption/\" #@param {type:\"string\"}\n"
      ],
      "execution_count": 0,
      "outputs": []
    },
    {
      "metadata": {
        "scrolled": true,
        "id": "t1vv13oCQY5r",
        "colab_type": "code",
        "outputId": "3ea1cc52-736d-4429-a3ce-4f0c8aad4d4e",
        "colab": {
          "base_uri": "https://localhost:8080/",
          "height": 136
        }
      },
      "cell_type": "code",
      "source": [
        "# (Optional) TODO #2: Amend the image transform below.\n",
        "transform_train = transforms.Compose([ \n",
        "    transforms.Resize(256),                          # smaller edge of image resized to 256\n",
        "    transforms.RandomCrop(224),                      # get 224x224 crop from random location\n",
        "    transforms.RandomHorizontalFlip(),               # horizontally flip image with probability=0.5\n",
        "    transforms.ToTensor(),                           # convert the PIL Image to a tensor\n",
        "    transforms.Normalize((0.485, 0.456, 0.406),      # normalize image for pre-trained model\n",
        "                         (0.229, 0.224, 0.225))])\n",
        "\n",
        "# Build data loader.\n",
        "data_loader = get_loader(transform=transform_train,\n",
        "                         mode='train',\n",
        "                         batch_size=batch_size,\n",
        "                         vocab_threshold=vocab_threshold,\n",
        "                         vocab_from_file=vocab_from_file)"
      ],
      "execution_count": 3,
      "outputs": [
        {
          "output_type": "stream",
          "text": [
            "Vocabulary successfully loaded from vocab.pkl file!\n",
            "loading annotations into memory...\n",
            "Done (t=0.74s)\n",
            "creating index...\n"
          ],
          "name": "stdout"
        },
        {
          "output_type": "stream",
          "text": [
            "  0%|          | 700/414113 [00:00<00:59, 6998.30it/s]"
          ],
          "name": "stderr"
        },
        {
          "output_type": "stream",
          "text": [
            "index created!\n",
            "Obtaining caption lengths...\n"
          ],
          "name": "stdout"
        },
        {
          "output_type": "stream",
          "text": [
            "100%|██████████| 414113/414113 [00:49<00:00, 8342.98it/s]\n"
          ],
          "name": "stderr"
        }
      ]
    },
    {
      "metadata": {
        "id": "ASPrQrDJQY5w",
        "colab_type": "code",
        "colab": {
          "base_uri": "https://localhost:8080/",
          "height": 51
        },
        "outputId": "41e07e78-db60-4739-b4a1-20af8fa2c386"
      },
      "cell_type": "code",
      "source": [
        "from model import EncoderCNN, DecoderRNN\n",
        "\n",
        "# The size of the vocabulary.\n",
        "vocab_size = len(data_loader.dataset.vocab)\n",
        "\n",
        "# Initialize the encoder and decoder. \n",
        "encoder = EncoderCNN(embed_size)\n",
        "decoder = DecoderRNN(embed_size, hidden_size, vocab_size, num_layers)\n",
        "\n",
        "# Move models to GPU if CUDA is available. \n",
        "device = torch.device(\"cuda\" if torch.cuda.is_available() else \"cpu\")\n",
        "encoder.to(device)\n",
        "decoder.to(device)\n",
        "\n",
        "# Define the loss function. \n",
        "criterion = nn.CrossEntropyLoss().cuda() if torch.cuda.is_available() else nn.CrossEntropyLoss()\n",
        "# TODO #3: Specify the learnable parameters of the model.\n",
        "params = list(encoder.embed.parameters()) + list(decoder.parameters())\n",
        "\n",
        "# TODO #4: Define the optimizer.\n",
        "optimizer = optim.Adam(params, lr=learning_rate)\n",
        "\n",
        "# Set the total number of training steps per epoch.\n",
        "total_step = math.ceil(len(data_loader.dataset.caption_lengths) / data_loader.batch_sampler.batch_size)"
      ],
      "execution_count": 4,
      "outputs": [
        {
          "output_type": "stream",
          "text": [
            "Downloading: \"https://download.pytorch.org/models/resnet50-19c8e357.pth\" to /root/.torch/models/resnet50-19c8e357.pth\n",
            "102502400it [00:01, 97179859.78it/s]\n"
          ],
          "name": "stderr"
        }
      ]
    },
    {
      "metadata": {
        "id": "cm4acufWQY5y",
        "colab_type": "text"
      },
      "cell_type": "markdown",
      "source": [
        "<a id='step2'></a>\n",
        "## Step 2: 训练你的模型\n",
        "\n",
        "在**Step 1**中执行代码单元格后，下面的训练过程应该就不会出现问题了。\n",
        "\n",
        "在这里，完全可以将代码单元格保留其原样，无需修改即可训练模型。但是，如果要修改用于训练下面模型的代码，则必须确保审阅专家能够很容易地看明白你的更改内容。换句话说，请务必提供适当的注释来描述代码的工作方式！\n",
        "\n",
        "你可能会发现，使用加载已保存的权重来恢复训练很有用。在这种情况下，请注意包含你要加载的编码器和解码器权重的文件的名称（`encoder_file`和`decoder_file`）。之后，你就可以使用下面的代码行加载权重："
      ]
    },
    {
      "metadata": {
        "id": "GfqjC-p7QY5z",
        "colab_type": "text"
      },
      "cell_type": "markdown",
      "source": [
        "```python\n",
        "# Load pre-trained weights before resuming training.\n",
        "encoder.load_state_dict(torch.load(os.path.join('./models', encoder_file)))\n",
        "decoder.load_state_dict(torch.load(os.path.join('./models', decoder_file)))\n",
        "```"
      ]
    },
    {
      "metadata": {
        "id": "MgEswS40QY50",
        "colab_type": "text"
      },
      "cell_type": "markdown",
      "source": [
        "在试验参数时，请务必记录大量笔记并记录你在各种训练中使用的设置。特别是，你不希望遇到这样的情况，即已经训练了几个小时的模型，但不记得使用的设置:)。\n",
        "\n",
        "### 关于调整超参数的说明\n",
        "\n",
        "为了弄清楚模型的运行情况，你可以尝试去了解训练过程中训练损失和复杂度是如何演变的。为了做好本项目，我们建议你根据这些信息修改超参数。\n",
        "\n",
        "但是，这样你还是无法知道模型是否过度拟合训练数据，但你要知道的是，过度拟合是训练图像标注模型时常会遇到的问题。\n",
        "\n",
        "对于这个项目，你不必担心过度拟合。**该项目对模型的性能没有严格的要求**，你只需要证明你的模型在生成基于测试数据的标注时学到了**_一些东西_**。现在，我们强烈建议你为我们建议的3个epoch训练你的模型，但不必担心性能；然后，立即转换到下一个notebook（**3_Inference.ipynb**），查看模型对测试数据的执行情况。如果你的模型需要更改，可以回到这个notebook，修改超参数（如有必要的话），并重新训练该模型。\n",
        "\n",
        "也就是说，如果你想在这个项目中有所超越，可以阅读 [本文](http://ieeexplore.ieee.org/stamp/stamp.jsp?arnumber=7505636)4.3.1节中最小化过度拟合的一些方法。在本notebook的下一个（可选）步骤中，我们提供了一些关于评估验证数据集性能的指导。"
      ]
    },
    {
      "metadata": {
        "id": "oUhSWRWXBszM",
        "colab_type": "code",
        "colab": {}
      },
      "cell_type": "code",
      "source": [
        "torch.save(decoder.state_dict(), os.path.join(save_root_path, './models', 'decoder-%d.pkl' % 0))\n",
        "torch.save(encoder.state_dict(), os.path.join(save_root_path, './models', 'encoder-%d.pkl' % 0))"
      ],
      "execution_count": 0,
      "outputs": []
    },
    {
      "metadata": {
        "scrolled": true,
        "id": "UvgR5zR3QY51",
        "colab_type": "code",
        "outputId": "f96be341-f589-4b11-ef0e-03aad1f479ce",
        "colab": {
          "base_uri": "https://localhost:8080/",
          "height": 1666
        }
      },
      "cell_type": "code",
      "source": [
        "import torch.utils.data as data\n",
        "import numpy as np\n",
        "import os\n",
        "import requests\n",
        "import time\n",
        "\n",
        "# Open the training log file.\n",
        "f = open(os.path.join(save_root_path, 'logs/', log_file), 'w')\n",
        "\n",
        "# old_time = time.time()\n",
        "# response = requests.request(\"GET\", \n",
        "#                             \"http://metadata.google.internal/computeMetadata/v1/instance/attributes/keep_alive_token\", \n",
        "#                             headers={\"Metadata-Flavor\":\"Google\"})\n",
        "\n",
        "history = {'train_loss': []}\n",
        "for epoch in range(1, num_epochs+1):\n",
        "    \n",
        "    for i_step in range(1, total_step+1):\n",
        "        \n",
        "#         if time.time() - old_time > 60:\n",
        "#             old_time = time.time()\n",
        "#             requests.request(\"POST\", \n",
        "#                              \"https://nebula.udacity.com/api/v1/remote/keep-alive\", \n",
        "#                              headers={'Authorization': \"STAR \" + response.text})\n",
        "        \n",
        "        # Randomly sample a caption length, and sample indices with that length.\n",
        "        indices = data_loader.dataset.get_train_indices()\n",
        "        # Create and assign a batch sampler to retrieve a batch with the sampled indices.\n",
        "        new_sampler = data.sampler.SubsetRandomSampler(indices=indices)\n",
        "        data_loader.batch_sampler.sampler = new_sampler\n",
        "        \n",
        "        # Obtain the batch.\n",
        "        images, captions = next(iter(data_loader))\n",
        "\n",
        "        # Move batch of images and captions to GPU if CUDA is available.\n",
        "        images = images.to(device)\n",
        "        captions = captions.to(device)\n",
        "        \n",
        "        # Zero the gradients.\n",
        "        decoder.zero_grad()\n",
        "        encoder.zero_grad()\n",
        "        \n",
        "        # Pass the inputs through the CNN-RNN model.\n",
        "        features = encoder(images)\n",
        "        outputs = decoder(features, captions)\n",
        "        \n",
        "        # Calculate the batch loss.\n",
        "        loss = criterion(outputs.view(-1, vocab_size), captions.view(-1))\n",
        "        \n",
        "        # Backward pass.\n",
        "        loss.backward()\n",
        "        \n",
        "        # Update the parameters in the optimizer.\n",
        "        optimizer.step()\n",
        "            \n",
        "        # Get training statistics.\n",
        "        stats = 'Epoch [%d/%d], Step [%d/%d], Loss: %.4f, Perplexity: %5.4f' % (epoch, num_epochs, i_step, total_step, loss.item(), np.exp(loss.item()))\n",
        "        \n",
        "        # Print training statistics (on same line).\n",
        "        print('\\r' + stats, end=\"\")\n",
        "        sys.stdout.flush()\n",
        "        \n",
        "        # Print training statistics to file.\n",
        "        f.write(stats + '\\n')\n",
        "        f.flush()\n",
        "        history['train_loss'].append(loss.item())\n",
        "        # Print training statistics (on different line).\n",
        "        if i_step % print_every == 0:\n",
        "            print('\\r' + stats)\n",
        "            \n",
        "    # Save the weights.\n",
        "    if epoch % save_every == 0:\n",
        "        torch.save(decoder.state_dict(), os.path.join(save_root_path, './models', 'decoder-%d.pkl' % epoch))\n",
        "        torch.save(encoder.state_dict(), os.path.join(save_root_path, './models', 'encoder-%d.pkl' % epoch))\n",
        "\n",
        "# Close the training log file.\n",
        "f.close()"
      ],
      "execution_count": 6,
      "outputs": [
        {
          "output_type": "stream",
          "text": [
            "Epoch [1/3], Step [100/3236], Loss: 3.8700, Perplexity: 47.9410\n",
            "Epoch [1/3], Step [200/3236], Loss: 3.2651, Perplexity: 26.1836\n",
            "Epoch [1/3], Step [300/3236], Loss: 2.9708, Perplexity: 19.5073\n",
            "Epoch [1/3], Step [400/3236], Loss: 2.9169, Perplexity: 18.4845\n",
            "Epoch [1/3], Step [500/3236], Loss: 2.8827, Perplexity: 17.8631\n",
            "Epoch [1/3], Step [600/3236], Loss: 2.6959, Perplexity: 14.8190\n",
            "Epoch [1/3], Step [700/3236], Loss: 2.6323, Perplexity: 13.9050\n",
            "Epoch [1/3], Step [800/3236], Loss: 2.5876, Perplexity: 13.2983\n",
            "Epoch [1/3], Step [900/3236], Loss: 2.6690, Perplexity: 14.4250\n",
            "Epoch [1/3], Step [1000/3236], Loss: 2.4538, Perplexity: 11.6323\n",
            "Epoch [1/3], Step [1100/3236], Loss: 2.5044, Perplexity: 12.2368\n",
            "Epoch [1/3], Step [1200/3236], Loss: 2.4283, Perplexity: 11.3399\n",
            "Epoch [1/3], Step [1300/3236], Loss: 2.6668, Perplexity: 14.3939\n",
            "Epoch [1/3], Step [1400/3236], Loss: 2.2738, Perplexity: 9.7159\n",
            "Epoch [1/3], Step [1500/3236], Loss: 2.2431, Perplexity: 9.4226\n",
            "Epoch [1/3], Step [1600/3236], Loss: 2.4148, Perplexity: 11.1879\n",
            "Epoch [1/3], Step [1700/3236], Loss: 2.1571, Perplexity: 8.6461\n",
            "Epoch [1/3], Step [1800/3236], Loss: 2.5105, Perplexity: 12.3112\n",
            "Epoch [1/3], Step [1900/3236], Loss: 2.1213, Perplexity: 8.3421\n",
            "Epoch [1/3], Step [2000/3236], Loss: 2.1851, Perplexity: 8.8916\n",
            "Epoch [1/3], Step [2100/3236], Loss: 2.2610, Perplexity: 9.5930\n",
            "Epoch [1/3], Step [2200/3236], Loss: 2.1228, Perplexity: 8.3541\n",
            "Epoch [1/3], Step [2300/3236], Loss: 2.1770, Perplexity: 8.8200\n",
            "Epoch [1/3], Step [2400/3236], Loss: 2.2271, Perplexity: 9.2733\n",
            "Epoch [1/3], Step [2500/3236], Loss: 2.0813, Perplexity: 8.0146\n",
            "Epoch [1/3], Step [2600/3236], Loss: 2.3100, Perplexity: 10.0744\n",
            "Epoch [1/3], Step [2700/3236], Loss: 2.2954, Perplexity: 9.9282\n",
            "Epoch [1/3], Step [2800/3236], Loss: 2.1125, Perplexity: 8.2688\n",
            "Epoch [1/3], Step [2900/3236], Loss: 2.1654, Perplexity: 8.7177\n",
            "Epoch [1/3], Step [3000/3236], Loss: 2.2548, Perplexity: 9.5332\n",
            "Epoch [1/3], Step [3100/3236], Loss: 2.0772, Perplexity: 7.9818\n",
            "Epoch [1/3], Step [3200/3236], Loss: 1.9575, Perplexity: 7.0814\n",
            "Epoch [2/3], Step [100/3236], Loss: 2.4123, Perplexity: 11.1593\n",
            "Epoch [2/3], Step [200/3236], Loss: 2.1270, Perplexity: 8.3898\n",
            "Epoch [2/3], Step [300/3236], Loss: 2.1090, Perplexity: 8.2398\n",
            "Epoch [2/3], Step [400/3236], Loss: 2.0364, Perplexity: 7.6630\n",
            "Epoch [2/3], Step [500/3236], Loss: 2.0121, Perplexity: 7.4791\n",
            "Epoch [2/3], Step [600/3236], Loss: 2.1236, Perplexity: 8.3614\n",
            "Epoch [2/3], Step [700/3236], Loss: 2.2895, Perplexity: 9.8696\n",
            "Epoch [2/3], Step [800/3236], Loss: 2.0134, Perplexity: 7.4890\n",
            "Epoch [2/3], Step [900/3236], Loss: 1.9356, Perplexity: 6.9285\n",
            "Epoch [2/3], Step [1000/3236], Loss: 1.9107, Perplexity: 6.7580\n",
            "Epoch [2/3], Step [1100/3236], Loss: 2.2419, Perplexity: 9.4116\n",
            "Epoch [2/3], Step [1200/3236], Loss: 2.3679, Perplexity: 10.6749\n",
            "Epoch [2/3], Step [1300/3236], Loss: 2.4416, Perplexity: 11.4912\n",
            "Epoch [2/3], Step [1400/3236], Loss: 1.9696, Perplexity: 7.1680\n",
            "Epoch [2/3], Step [1500/3236], Loss: 2.1587, Perplexity: 8.6600\n",
            "Epoch [2/3], Step [1600/3236], Loss: 1.8022, Perplexity: 6.0631\n",
            "Epoch [2/3], Step [1700/3236], Loss: 1.9806, Perplexity: 7.2469\n",
            "Epoch [2/3], Step [1800/3236], Loss: 1.9422, Perplexity: 6.9742\n",
            "Epoch [2/3], Step [1900/3236], Loss: 2.0787, Perplexity: 7.9937\n",
            "Epoch [2/3], Step [2000/3236], Loss: 2.0819, Perplexity: 8.0199\n",
            "Epoch [2/3], Step [2100/3236], Loss: 1.9758, Perplexity: 7.2124\n",
            "Epoch [2/3], Step [2200/3236], Loss: 2.0162, Perplexity: 7.5095\n",
            "Epoch [2/3], Step [2300/3236], Loss: 1.9728, Perplexity: 7.1906\n",
            "Epoch [2/3], Step [2400/3236], Loss: 1.9995, Perplexity: 7.3856\n",
            "Epoch [2/3], Step [2500/3236], Loss: 1.9830, Perplexity: 7.2642\n",
            "Epoch [2/3], Step [2600/3236], Loss: 1.8973, Perplexity: 6.6679\n",
            "Epoch [2/3], Step [2700/3236], Loss: 1.9074, Perplexity: 6.7352\n",
            "Epoch [2/3], Step [2800/3236], Loss: 1.9226, Perplexity: 6.8388\n",
            "Epoch [2/3], Step [2900/3236], Loss: 2.4313, Perplexity: 11.3739\n",
            "Epoch [2/3], Step [3000/3236], Loss: 1.9581, Perplexity: 7.0859\n",
            "Epoch [2/3], Step [3100/3236], Loss: 1.9156, Perplexity: 6.7911\n",
            "Epoch [2/3], Step [3200/3236], Loss: 1.8908, Perplexity: 6.6249\n",
            "Epoch [3/3], Step [100/3236], Loss: 1.9342, Perplexity: 6.9182\n",
            "Epoch [3/3], Step [200/3236], Loss: 1.9557, Perplexity: 7.0689\n",
            "Epoch [3/3], Step [300/3236], Loss: 1.9045, Perplexity: 6.7163\n",
            "Epoch [3/3], Step [400/3236], Loss: 1.9106, Perplexity: 6.7570\n",
            "Epoch [3/3], Step [500/3236], Loss: 1.9866, Perplexity: 7.2907\n",
            "Epoch [3/3], Step [600/3236], Loss: 1.8273, Perplexity: 6.2172\n",
            "Epoch [3/3], Step [700/3236], Loss: 1.8251, Perplexity: 6.2036\n",
            "Epoch [3/3], Step [800/3236], Loss: 1.9161, Perplexity: 6.7942\n",
            "Epoch [3/3], Step [900/3236], Loss: 1.7700, Perplexity: 5.8709\n",
            "Epoch [3/3], Step [1000/3236], Loss: 2.0718, Perplexity: 7.9388\n",
            "Epoch [3/3], Step [1100/3236], Loss: 1.8904, Perplexity: 6.6222\n",
            "Epoch [3/3], Step [1200/3236], Loss: 1.9495, Perplexity: 7.0252\n",
            "Epoch [3/3], Step [1300/3236], Loss: 1.8570, Perplexity: 6.4045\n",
            "Epoch [3/3], Step [1400/3236], Loss: 1.8084, Perplexity: 6.1006\n",
            "Epoch [3/3], Step [1500/3236], Loss: 1.9018, Perplexity: 6.6979\n",
            "Epoch [3/3], Step [1600/3236], Loss: 1.8566, Perplexity: 6.4017\n",
            "Epoch [3/3], Step [1700/3236], Loss: 1.9760, Perplexity: 7.2142\n",
            "Epoch [3/3], Step [1800/3236], Loss: 1.8042, Perplexity: 6.0750\n",
            "Epoch [3/3], Step [1900/3236], Loss: 1.8525, Perplexity: 6.3759\n",
            "Epoch [3/3], Step [2000/3236], Loss: 1.8991, Perplexity: 6.6796\n",
            "Epoch [3/3], Step [2100/3236], Loss: 1.8886, Perplexity: 6.6104\n",
            "Epoch [3/3], Step [2200/3236], Loss: 1.9349, Perplexity: 6.9235\n",
            "Epoch [3/3], Step [2300/3236], Loss: 1.7904, Perplexity: 5.9917\n",
            "Epoch [3/3], Step [2400/3236], Loss: 2.2294, Perplexity: 9.2940\n",
            "Epoch [3/3], Step [2500/3236], Loss: 1.8600, Perplexity: 6.4240\n",
            "Epoch [3/3], Step [2600/3236], Loss: 1.7145, Perplexity: 5.5536\n",
            "Epoch [3/3], Step [2700/3236], Loss: 1.9411, Perplexity: 6.9663\n",
            "Epoch [3/3], Step [2800/3236], Loss: 1.9423, Perplexity: 6.9750\n",
            "Epoch [3/3], Step [2900/3236], Loss: 1.6771, Perplexity: 5.3500\n",
            "Epoch [3/3], Step [3000/3236], Loss: 1.8769, Perplexity: 6.5333\n",
            "Epoch [3/3], Step [3100/3236], Loss: 1.8064, Perplexity: 6.0885\n",
            "Epoch [3/3], Step [3200/3236], Loss: 2.8443, Perplexity: 17.1898\n",
            "Epoch [3/3], Step [3236/3236], Loss: 1.8712, Perplexity: 6.4962"
          ],
          "name": "stdout"
        }
      ]
    },
    {
      "metadata": {
        "id": "T3PJ_mN4QY55",
        "colab_type": "code",
        "colab": {}
      },
      "cell_type": "code",
      "source": [
        "import matplotlib.pyplot as plt\n",
        "%matplotlib inline\n",
        "%config InlineBackend.figure_format = 'retina'"
      ],
      "execution_count": 0,
      "outputs": []
    },
    {
      "metadata": {
        "id": "kTm6ArYrQY59",
        "colab_type": "code",
        "colab": {
          "base_uri": "https://localhost:8080/",
          "height": 297
        },
        "outputId": "8a69d22f-54a0-4a9f-e1e9-14db597b51db"
      },
      "cell_type": "code",
      "source": [
        "plt.plot(history['train_loss'])\n",
        "plt.xlabel('steps')\n",
        "plt.ylabel('train loss')"
      ],
      "execution_count": 8,
      "outputs": [
        {
          "output_type": "execute_result",
          "data": {
            "text/plain": [
              "Text(0, 0.5, 'train loss')"
            ]
          },
          "metadata": {
            "tags": []
          },
          "execution_count": 8
        },
        {
          "output_type": "display_data",
          "data": {
            "image/png": "[encoded data removed]",
            "text/plain": [
              "<Figure size 432x288 with 1 Axes>"
            ]
          },
          "metadata": {
            "tags": [],
            "image/png": {
              "width": 386,
              "height": 263
            }
          }
        }
      ]
    },
    {
      "metadata": {
        "id": "Ff-cWc8iQY6A",
        "colab_type": "text"
      },
      "cell_type": "markdown",
      "source": [
        "<a id='step3'></a>\n",
        "## Step 3: (可选）验证你的模型\n",
        "\n",
        "为了评估潜在的过度拟合，可以选择评估验证集的性能。如果你决定来做这个**可选**任务，则需要先完成下一个notebook中的所有步骤（**3_Inference.ipynb**）。作为该notebook的一部分，你需要编写并测试使用RNN解码器生成图像标注的代码（特别是`DecoderRNN`类中的`sample`方法）。在这里，该代码会是非常有用的。\n",
        "\n",
        "如果你决定验证模型，请不要在**data_loader.py**中编辑数据加载器。相反，你需要创建一个名为**data_loader_val.py**的新文件，其中包含用于获取验证数据的数据加载器的代码。你可以访问：\n",
        "-  路径为`'/opt/cocoapi/images/train2014/'`的验证图像文件\n",
        "-  路径为`'/opt/cocoapi/annotations/captions_val2014.json'`的文件中 ，用于验证图像标注的注释文件。\n",
        "\n",
        "根据我们的建议，验证模型的方法涉及会到创建一个json文件，例如包含模型预测的验证图像的标注的[这个文件](https://github.com/cocodataset/cocoapi/blob/master/results/captions_val2014_fakecap_results.json) 。然后，你可以编写自己的脚本或使用 [在线查找](https://github.com/tylin/coco-caption) 的脚本来计算模型的BLEU分数。你可以在 [本文](https://arxiv.org/pdf/1411.4555.pdf)第4.1节中阅读有关BLEU分数以及其他评估指标（如TEOR和Cider）的更多信息。有关如何使用注释文件的更多信息，请查看COCO数据集 [网站](http://cocodataset.org/#download) 。"
      ]
    }
  ]
}